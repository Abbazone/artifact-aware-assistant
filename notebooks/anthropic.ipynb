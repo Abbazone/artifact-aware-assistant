{
 "cells": [
  {
   "cell_type": "code",
   "execution_count": 1,
   "id": "af5aa98d-aca3-4ae8-97ea-5d25af48e2e1",
   "metadata": {},
   "outputs": [
    {
     "data": {
      "text/plain": [
       "True"
      ]
     },
     "execution_count": 1,
     "metadata": {},
     "output_type": "execute_result"
    }
   ],
   "source": [
    "import os\n",
    "\n",
    "os.chdir('D:\\\\dev\\\\projects\\\\artifact-aware-assistant\\\\backend\\\\app\\\\routes\\\\api')\n",
    "os.environ['no_proxy'] = \"10.227.91.60\"\n",
    "\n",
    "from conversation import SYSTEM_MESSAGE, Artifact, Tool\n",
    "# from example_tools import tools\n",
    "\n",
    "from dotenv import load_dotenv\n",
    "\n",
    "load_dotenv()  # Load environment variables"
   ]
  },
  {
   "cell_type": "code",
   "execution_count": 2,
   "id": "b151a99e-3403-4023-98a6-46dfcdf74ded",
   "metadata": {},
   "outputs": [],
   "source": [
    "def get_listing(address):\n",
    "    content = f\"\"\"\\\n",
    "{{\n",
    "    \"address\": \"{address}\",\n",
    "    \"city\": \"Cedar Rapids\",\n",
    "    \"state\": \"IA\",\n",
    "    \"zip\": \"52402\",\n",
    "    \"price\": 185000,\n",
    "    \"beds\": 3,\n",
    "    \"baths\": 2,\n",
    "    \"sqft\": 1450,\n",
    "    \"lot_size\": 0.25,\n",
    "    \"year_built\": 1978,\n",
    "    \"description\": \"Charming ranch-style home in established neighborhood. Updated kitchen with new appliances. Finished basement, attached 2-car garage, fenced backyard with mature trees. Close to schools and shopping.\",\n",
    "    \"features\": [           \n",
    "        \"Central air\",\n",
    "        \"Forced air heating\",\n",
    "        \"Hardwood floors\",\n",
    "        \"Updated kitchen\",\n",
    "        \"Finished basement\",\n",
    "        \"Attached garage\",\n",
    "        \"Fenced yard\"\n",
    "    ],\n",
    "}}\n",
    "\"\"\"\n",
    "\n",
    "    artifact = Artifact(\n",
    "        identifier=\"18bacG4a\",\n",
    "        type=\"application/json\",\n",
    "        title=address,\n",
    "        content=content)\n",
    "    return str(artifact)\n",
    "\n",
    "\n",
    "get_listing_schema = {\n",
    "    \"name\": \"get_listing\",\n",
    "    \"description\": \"Get details about a specific property listing\",\n",
    "    \"input_schema\": {\n",
    "        \"type\": \"object\",\n",
    "        \"properties\": {\n",
    "            \"address\": {\n",
    "                \"type\": \"string\",\n",
    "                \"description\": \"The street address to look up\"\n",
    "            }\n",
    "        },\n",
    "        \"required\": [\"address\"]\n",
    "    }\n",
    "}\n",
    "\n",
    "\n",
    "tools = [\n",
    "    Tool(get_listing_schema, get_listing),\n",
    "]"
   ]
  },
  {
   "cell_type": "code",
   "execution_count": 3,
   "id": "d91be035-53ff-4f19-8b4f-066791aab0cb",
   "metadata": {},
   "outputs": [
    {
     "data": {
      "text/plain": [
       "'<artifact identifier=\"18bacG4a\" type=\"application/json\" title=\"192 Oak Street\">\\n{\\n    \"address\": \"192 Oak Street\",\\n    \"city\": \"Cedar Rapids\",\\n    \"state\": \"IA\",\\n    \"zip\": \"52402\",\\n    \"price\": 185000,\\n    \"beds\": 3,\\n    \"baths\": 2,\\n    \"sqft\": 1450,\\n    \"lot_size\": 0.25,\\n    \"year_built\": 1978,\\n    \"description\": \"Charming ranch-style home in established neighborhood. Updated kitchen with new appliances. Finished basement, attached 2-car garage, fenced backyard with mature trees. Close to schools and shopping.\",\\n    \"features\": [           \\n        \"Central air\",\\n        \"Forced air heating\",\\n        \"Hardwood floors\",\\n        \"Updated kitchen\",\\n        \"Finished basement\",\\n        \"Attached garage\",\\n        \"Fenced yard\"\\n    ],\\n}\\n\\n</artifact>'"
      ]
     },
     "execution_count": 3,
     "metadata": {},
     "output_type": "execute_result"
    }
   ],
   "source": [
    "get_listing('192 Oak Street')"
   ]
  },
  {
   "cell_type": "code",
   "execution_count": 4,
   "id": "85b2593d-7d26-4623-be46-dac54ddd4064",
   "metadata": {},
   "outputs": [
    {
     "name": "stdout",
     "output_type": "stream",
     "text": [
      "<artifact identifier=\"18bacG4a\" type=\"application/json\" title=\"192 Oak Street\">\n",
      "{\n",
      "    \"address\": \"192 Oak Street\",\n",
      "    \"city\": \"Cedar Rapids\",\n",
      "    \"state\": \"IA\",\n",
      "    \"zip\": \"52402\",\n",
      "    \"price\": 185000,\n",
      "    \"beds\": 3,\n",
      "    \"baths\": 2,\n",
      "    \"sqft\": 1450,\n",
      "    \"lot_size\": 0.25,\n",
      "    \"year_built\": 1978,\n",
      "    \"description\": \"Charming ranch-style home in established neighborhood. Updated kitchen with new appliances. Finished basement, attached 2-car garage, fenced backyard with mature trees. Close to schools and shopping.\",\n",
      "    \"features\": [           \n",
      "        \"Central air\",\n",
      "        \"Forced air heating\",\n",
      "        \"Hardwood floors\",\n",
      "        \"Updated kitchen\",\n",
      "        \"Finished basement\",\n",
      "        \"Attached garage\",\n",
      "        \"Fenced yard\"\n",
      "    ],\n",
      "}\n",
      "\n",
      "</artifact>\n"
     ]
    }
   ],
   "source": [
    "print(get_listing('192 Oak Street'))"
   ]
  },
  {
   "cell_type": "code",
   "execution_count": 5,
   "id": "0ae62835-4483-498f-b109-25779ee65c56",
   "metadata": {},
   "outputs": [
    {
     "data": {
      "text/plain": [
       "<conversation.Tool at 0x181b80ca990>"
      ]
     },
     "execution_count": 5,
     "metadata": {},
     "output_type": "execute_result"
    }
   ],
   "source": [
    "t = Tool(get_listing_schema, get_listing)\n",
    "t"
   ]
  },
  {
   "cell_type": "code",
   "execution_count": 6,
   "id": "f4370a59-4e08-4774-8ecc-b08d42387985",
   "metadata": {},
   "outputs": [
    {
     "name": "stdout",
     "output_type": "stream",
     "text": [
      "<artifact identifier=\"18bacG4a\" type=\"application/json\" title=\"192 Oak St\">\n",
      "{\n",
      "    \"address\": \"192 Oak St\",\n",
      "    \"city\": \"Cedar Rapids\",\n",
      "    \"state\": \"IA\",\n",
      "    \"zip\": \"52402\",\n",
      "    \"price\": 185000,\n",
      "    \"beds\": 3,\n",
      "    \"baths\": 2,\n",
      "    \"sqft\": 1450,\n",
      "    \"lot_size\": 0.25,\n",
      "    \"year_built\": 1978,\n",
      "    \"description\": \"Charming ranch-style home in established neighborhood. Updated kitchen with new appliances. Finished basement, attached 2-car garage, fenced backyard with mature trees. Close to schools and shopping.\",\n",
      "    \"features\": [           \n",
      "        \"Central air\",\n",
      "        \"Forced air heating\",\n",
      "        \"Hardwood floors\",\n",
      "        \"Updated kitchen\",\n",
      "        \"Finished basement\",\n",
      "        \"Attached garage\",\n",
      "        \"Fenced yard\"\n",
      "    ],\n",
      "}\n",
      "\n",
      "</artifact>\n"
     ]
    }
   ],
   "source": [
    "print(t.callable(**{'address': '192 Oak St'}))"
   ]
  },
  {
   "cell_type": "code",
   "execution_count": 7,
   "id": "8e298b06-043b-482e-b8c8-2804f7ae25fd",
   "metadata": {},
   "outputs": [],
   "source": [
    "def process_tool_uses_and_results(messages):\n",
    "    '''\n",
    "    {'role': 'assistant', \n",
    "    'content': [\n",
    "        {'text': \"I'll help you get information about the property at 192 Oak St.\", 'type': 'text'}, \n",
    "        {'id': 'toolu_012m2VtyXxFL4RBGHzJqSN4R', 'input': {'address': '192 Oak St'}, 'name': 'get_listing', 'type': 'tool_use'}\n",
    "        ]\n",
    "    }\n",
    "    \n",
    "    {'role': 'user', 'content': [{'type': 'tool_result', 'tool_use_id': 'toolu_012m2VtyXxFL4RBGHzJqSN4R', 'content': '<a href=\"#18bacG4a\">192 Oak St</a>'}]}\n",
    "    \n",
    "    ->\n",
    "\n",
    "    {'role': 'assistant', \n",
    "    'content': [\n",
    "        {'text': \"I'll help you get information about the property at 192 Oak St.\", 'type': 'text'}, \n",
    "        {'type': 'tool_use', 'name': 'get_listing', 'input': {'address': '192 Oak St'}, 'output': '<a href=\"#18bacG4a\">192 Oak St</a>'}\n",
    "        ]\n",
    "    }\n",
    "    \n",
    "    '''\n",
    "    processed_messages = []\n",
    "    tool_uses_content = None\n",
    "    \n",
    "    for message in messages:\n",
    "        if message['role'] == 'assistant' and isinstance(message['content'], list):\n",
    "            # Store tool uses for next iteration\n",
    "            tool_uses_content = message['content']\n",
    "            continue\n",
    "            \n",
    "        if message['role'] == 'user' and isinstance(message['content'], list) and tool_uses_content:\n",
    "            # Create mapping of tool_use_id to result content\n",
    "            tool_results_map = {\n",
    "                result['tool_use_id']: result['content']\n",
    "                for result in message['content']\n",
    "                if result['type'] == 'tool_result'\n",
    "            }\n",
    "            \n",
    "            # Process the content list, replacing tool uses with combined use+result\n",
    "            processed_content = []\n",
    "            for item in tool_uses_content:\n",
    "                if item.get('type') == 'tool_use':\n",
    "                    processed_content.append({\n",
    "                        'type': 'tool_use',\n",
    "                        'name': item['name'],\n",
    "                        'input': item['input'],\n",
    "                        'output': tool_results_map[item['id']]\n",
    "                    })\n",
    "                else:\n",
    "                    processed_content.append(item)\n",
    "                    \n",
    "            processed_messages.append({\n",
    "                'role': 'assistant',\n",
    "                'content': processed_content\n",
    "            })\n",
    "            tool_uses_content = None\n",
    "            continue\n",
    "            \n",
    "        # Add any other messages as-is\n",
    "        processed_messages.append(message)\n",
    "        \n",
    "    return processed_messages\n",
    "\n",
    "\n",
    "def unprocess_tool_uses_and_results(messages):\n",
    "    '''\n",
    "    {'role': 'assistant', \n",
    "    'content': [\n",
    "        {'text': \"I'll help you get information about the property at 192 Oak St.\", 'type': 'text'}, \n",
    "        {'type': 'tool_use', 'name': 'get_listing', 'input': {'address': '192 Oak St'}, 'output': '<a href=\"#18bacG4a\">192 Oak St</a>'}\n",
    "        ]\n",
    "    }\n",
    "\n",
    "    -> \n",
    "\n",
    "    {'role': 'assistant', \n",
    "    'content': [\n",
    "        {'text': \"I'll help you get the listing information for 192 Oak St.\", 'type': 'text'}, \n",
    "        {'type': 'tool_use', 'id': 'toolu_0', 'name': 'get_listing', 'input': {'address': '192 Oak St'}}\n",
    "        ]\n",
    "    }\n",
    "\n",
    "    {'role': 'user', \n",
    "    'content': [{'type': 'tool_result', 'tool_use_id': 'toolu_0', 'content': '<a href=\"#18bacG4a\">192 Oak St</a>'}]}\n",
    "    \n",
    "    '''\n",
    "    \n",
    "    unprocessed_messages = []\n",
    "    tool_use_counter = 0\n",
    "    \n",
    "    for message in messages:\n",
    "        if message['role'] == 'assistant' and isinstance(message['content'], list):\n",
    "            assistant_message_content = []\n",
    "            user_message_content = []\n",
    "            for item in message['content']:\n",
    "                if item.get('type') == 'tool_use':\n",
    "                    # Generate unique tool use ID\n",
    "                    tool_use_id = f'toolu_{tool_use_counter}'\n",
    "                    tool_use_counter += 1\n",
    "                    \n",
    "                    # Split tool use and result into separate messages\n",
    "                    tool_use = {\n",
    "                        'type': 'tool_use',\n",
    "                        'id': tool_use_id,\n",
    "                        'name': item['name'],\n",
    "                        'input': item['input']\n",
    "                    }\n",
    "                    assistant_message_content.append(tool_use)\n",
    "                    \n",
    "                    # Store tool result for later\n",
    "                    user_message_content.append({\n",
    "                        'type': 'tool_result',\n",
    "                        'tool_use_id': tool_use_id,\n",
    "                        'content': item['output'],\n",
    "                    })\n",
    "                else:\n",
    "                    assistant_message_content.append(item)\n",
    "            \n",
    "            unprocessed_messages.append({\n",
    "                'role': 'assistant',\n",
    "                'content': assistant_message_content\n",
    "            })\n",
    "            unprocessed_messages.append({\n",
    "                'role': 'user',\n",
    "                'content': user_message_content\n",
    "            })\n",
    "        else:\n",
    "            # Add any other messages as-is\n",
    "            unprocessed_messages.append(message)\n",
    "    \n",
    "    return unprocessed_messages"
   ]
  },
  {
   "cell_type": "code",
   "execution_count": 8,
   "id": "4a2cc506-6637-4240-a4cf-161ccf051fd0",
   "metadata": {},
   "outputs": [],
   "source": [
    "messages = [\n",
    "    {'role': 'user', 'content': 'Hello!'},\n",
    "    {'role': 'assistant', 'content': \"Hello! I'm here to help you find information about property listings. I can help you look up details about specific properties if you provide me with an address. What property would you like to learn more about?\"},\n",
    "    {'role': 'user', 'content': \"I'm I want to put together an email for a client about the home listed at 192 Oak St. Can you pull the listing?\"}\n",
    "]\n",
    "\n",
    "user_message = messages[-1]['content']\n",
    "messages = messages[: -1]\n",
    "messages = unprocess_tool_uses_and_results(messages)\n",
    "artifacts = [] #convert_to_artifacts()\n",
    "\n"
   ]
  },
  {
   "cell_type": "code",
   "execution_count": 9,
   "id": "0fee8865-5174-41c0-b683-37011fd65bf0",
   "metadata": {},
   "outputs": [
    {
     "data": {
      "text/plain": [
       "[{'role': 'user', 'content': 'Hello!'},\n",
       " {'role': 'assistant',\n",
       "  'content': \"Hello! I'm here to help you find information about property listings. I can help you look up details about specific properties if you provide me with an address. What property would you like to learn more about?\"}]"
      ]
     },
     "execution_count": 9,
     "metadata": {},
     "output_type": "execute_result"
    }
   ],
   "source": [
    "messages"
   ]
  },
  {
   "cell_type": "code",
   "execution_count": 10,
   "id": "0f388c54-3dd0-47d7-8f6e-91cc95a479cf",
   "metadata": {},
   "outputs": [],
   "source": [
    "import anthropic\n",
    "import re\n",
    "\n",
    "\n",
    "class Conversation:\n",
    "    def __init__(self, tools=None, messages=None, artifacts=None):\n",
    "        self.client = anthropic.Anthropic(api_key=os.getenv('ANTHROPIC_API_KEY'))\n",
    "        self.model = \"claude-3-5-sonnet-20241022\"\n",
    "        self.messages = messages or []\n",
    "        self.artifacts = artifacts or []\n",
    "        self.tools = tools or []\n",
    "\n",
    "    def say(self, message):\n",
    "        system_message = self._generate_system_message(self.artifacts)\n",
    "        tools = [t.schema for t in self.tools]\n",
    "\n",
    "        self.messages.append({\n",
    "            \"role\": \"user\",\n",
    "            \"content\": message\n",
    "        })\n",
    "\n",
    "        response = self.client.messages.create(\n",
    "            model=self.model,\n",
    "            system=system_message,\n",
    "            messages=self.messages,\n",
    "            max_tokens=3000,\n",
    "            temperature=0.7,\n",
    "            tools=tools,\n",
    "        )\n",
    "\n",
    "        # Handle potential tool use\n",
    "        while response.stop_reason == \"tool_use\":\n",
    "            tool_result_messages = []\n",
    "            for block in response.content:\n",
    "                if block.type == \"tool_use\":\n",
    "                    tool_use = block\n",
    "                    tool_name = tool_use.name\n",
    "                    tool_input = tool_use.input\n",
    "                    tool_result = self._process_tool_call(tool_name, tool_input)\n",
    "                    tool_result_messages.append({\n",
    "                        \"type\": \"tool_result\",\n",
    "                        \"tool_use_id\": tool_use.id,\n",
    "                        \"content\": tool_result,\n",
    "                    })\n",
    "\n",
    "            self.messages.append({\"role\": \"assistant\", \"content\": response.content})\n",
    "            self.messages.append({\n",
    "                \"role\": \"user\",\n",
    "                \"content\": tool_result_messages,\n",
    "            })\n",
    "\n",
    "            # Get final response after tool use\n",
    "            response = self.client.messages.create(\n",
    "                model=self.model,\n",
    "                system=system_message,\n",
    "                messages=self.messages,\n",
    "                max_tokens=3000,\n",
    "                temperature=0.7,\n",
    "                tools=tools,\n",
    "            )\n",
    "\n",
    "        assistant_message = response.content[0].text\n",
    "        self.messages.append({\"role\": \"assistant\", \"content\": assistant_message})\n",
    "        artifacts, messages = self._extract_messages_and_artifacts()\n",
    "\n",
    "        return {\n",
    "            'messages': messages,\n",
    "            'artifacts': artifacts,\n",
    "        }\n",
    "\n",
    "    def _process_tool_call(self, tool_name, tool_input):\n",
    "        for tool in self.tools:\n",
    "            if tool.name == tool_name:\n",
    "                return tool.callable(**tool_input)\n",
    "        raise Exception(f\"Tool {tool_name} not found\")\n",
    "\n",
    "    def _generate_system_message(self, artifacts):\n",
    "        artifacts_info = \"\\n\".join([str(artifact) for artifact in artifacts])\n",
    "        system_message = SYSTEM_MESSAGE\n",
    "\n",
    "        if artifacts:\n",
    "            system_message += f\"\"\"\\\n",
    "            <artifacts>\n",
    "            {artifacts_info}\n",
    "            </artifacts>\n",
    "            \"\"\"\n",
    "        return system_message\n",
    "\n",
    "    def _extract_messages_and_artifacts(self):\n",
    "        \"\"\"\n",
    "        Extracts artifacts from the conversation and returns a list of messages with the artifacts replaced by anchor tags.\n",
    "        \"\"\"\n",
    "        artifacts = self.artifacts\n",
    "        new_messages = []\n",
    "\n",
    "        # Process each message\n",
    "        for message in self.messages:\n",
    "            content = message['content']\n",
    "            new_message = {\"role\": message[\"role\"]}\n",
    "\n",
    "            # Process string content\n",
    "            if isinstance(content, str):\n",
    "                new_content, message_artifacts = self._process_content(content)\n",
    "                artifacts.extend(message_artifacts)\n",
    "                new_message[\"content\"] = new_content\n",
    "                new_messages.append(new_message)\n",
    "                continue\n",
    "\n",
    "            # Process list content\n",
    "            if isinstance(content, list):\n",
    "                new_content_list = []\n",
    "                for item in content:\n",
    "                    # Handle string items\n",
    "                    if isinstance(item, str):\n",
    "                        new_item, item_artifacts = self._process_content(item)\n",
    "                        artifacts.extend(item_artifacts)\n",
    "                        new_content_list.append(new_item)\n",
    "                        continue\n",
    "\n",
    "                    # Handle dict-like items\n",
    "                    item_dict = item.dict() if hasattr(item, 'dict') else item\n",
    "\n",
    "                    if item_dict.get('type') == 'text':\n",
    "                        new_text, text_artifacts = self._process_content(item_dict['text'])\n",
    "                        artifacts.extend(text_artifacts)\n",
    "                        new_item = dict(item_dict)\n",
    "                        new_item['text'] = new_text\n",
    "                        new_content_list.append(new_item)\n",
    "                    elif item_dict.get('type') == 'tool_result':\n",
    "                        new_content, content_artifacts = self._process_content(item_dict['content'])\n",
    "                        artifacts.extend(content_artifacts)\n",
    "                        new_item = dict(item_dict)\n",
    "                        new_item['content'] = new_content\n",
    "                        new_content_list.append(new_item)\n",
    "                    else:\n",
    "                        new_content_list.append(item_dict)\n",
    "\n",
    "                new_message[\"content\"] = new_content_list\n",
    "                new_messages.append(new_message)\n",
    "\n",
    "        # Remove duplicate artifacts keeping only the latest version\n",
    "        seen_ids = {}\n",
    "        unique_artifacts = []\n",
    "        for artifact in artifacts:\n",
    "            seen_ids[artifact.identifier] = artifact\n",
    "        unique_artifacts = list(seen_ids.values())\n",
    "\n",
    "        return unique_artifacts, new_messages\n",
    "\n",
    "    def _process_content(self, text):\n",
    "        \"\"\"Helper method to process text content and extract artifacts\"\"\"\n",
    "        artifacts = []\n",
    "\n",
    "        # Find all artifact blocks using regex\n",
    "        artifact_pattern = r'<artifact\\s+identifier=\"([^\"]+)\"\\s+type=\"([^\"]+)\"\\s+title=\"([^\"]+)\">(.*?)</artifact>'\n",
    "\n",
    "        # Keep track of where we last ended to build the new content\n",
    "        last_end = 0\n",
    "        new_content = \"\"\n",
    "\n",
    "        for match in re.finditer(artifact_pattern, text, re.DOTALL):\n",
    "            # Add any text before this match\n",
    "            new_content += text[last_end:match.start()]\n",
    "\n",
    "            # Extract artifact info\n",
    "            identifier = match.group(1)\n",
    "            type_ = match.group(2)\n",
    "            title = match.group(3)\n",
    "            content = match.group(4).strip()\n",
    "\n",
    "            # Create and store artifact\n",
    "            artifact = Artifact(identifier, type_, title, content)\n",
    "            artifacts.append(artifact)\n",
    "\n",
    "            # Add anchor tag\n",
    "            new_content += f'<a href=\"#{identifier}\">{title}</a>'\n",
    "\n",
    "            last_end = match.end()\n",
    "\n",
    "        # Add any remaining text\n",
    "        new_content += text[last_end:]\n",
    "\n",
    "        return new_content, artifacts"
   ]
  },
  {
   "cell_type": "code",
   "execution_count": 11,
   "id": "b5e67ead-2a86-40a5-bfeb-70faba325b4b",
   "metadata": {},
   "outputs": [
    {
     "name": "stderr",
     "output_type": "stream",
     "text": [
      "C:\\Users\\a84189971\\AppData\\Local\\Temp\\ipykernel_6900\\564943585.py:121: PydanticDeprecatedSince20: The `dict` method is deprecated; use `model_dump` instead. Deprecated in Pydantic V2.0 to be removed in V3.0. See Pydantic V2 Migration Guide at https://errors.pydantic.dev/2.10/migration/\n",
      "  item_dict = item.dict() if hasattr(item, 'dict') else item\n"
     ]
    }
   ],
   "source": [
    "conversation = Conversation(\n",
    "    tools=tools,\n",
    "    messages=messages,\n",
    "    artifacts=artifacts,\n",
    ")\n",
    "\n",
    "response = conversation.say(user_message)"
   ]
  },
  {
   "cell_type": "code",
   "execution_count": 12,
   "id": "f295622d-9c4e-41fe-8c84-92d3db5b73b5",
   "metadata": {},
   "outputs": [
    {
     "name": "stdout",
     "output_type": "stream",
     "text": [
      "{'messages': [{'role': 'user', 'content': 'Hello!'}, {'role': 'assistant', 'content': \"Hello! I'm here to help you find information about property listings. I can help you look up details about specific properties if you provide me with an address. What property would you like to learn more about?\"}, {'role': 'user', 'content': \"I'm I want to put together an email for a client about the home listed at 192 Oak St. Can you pull the listing?\"}, {'role': 'assistant', 'content': [{'text': \"I'll help you get the listing information for 192 Oak St.\", 'type': 'text'}, {'id': 'toolu_014qPwweB4GpRnDEdxgVywEd', 'input': {'address': '192 Oak St'}, 'name': 'get_listing', 'type': 'tool_use'}]}, {'role': 'user', 'content': [{'type': 'tool_result', 'tool_use_id': 'toolu_014qPwweB4GpRnDEdxgVywEd', 'content': '<a href=\"#18bacG4a\">192 Oak St</a>'}]}, {'role': 'assistant', 'content': 'I\\'ve retrieved the listing details for 192 Oak St. It\\'s a 3-bed, 2-bath ranch-style home in Cedar Rapids, Iowa, listed at $185,000. The property has 1,450 square feet of living space on a quarter-acre lot. You can find the complete listing details including features and description in the <a href=\"#18bacG4a\">192 Oak St listing</a>. Would you like me to help you compose an email highlighting specific aspects of this property for your client?'}], 'artifacts': [Artifact(identifier=\"18bacG4a\", title=\"192 Oak St\")]}\n"
     ]
    }
   ],
   "source": [
    "print(response)"
   ]
  },
  {
   "cell_type": "code",
   "execution_count": 13,
   "id": "edc94fd4-6c5f-484d-8fb8-8b1914bf0ace",
   "metadata": {},
   "outputs": [],
   "source": [
    "messages = response['messages']\n",
    "artifacts = response['artifacts']"
   ]
  },
  {
   "cell_type": "code",
   "execution_count": 14,
   "id": "9094fe38-e334-46d0-a5ff-99b91907b76c",
   "metadata": {},
   "outputs": [
    {
     "data": {
      "text/plain": [
       "[{'role': 'user', 'content': 'Hello!'},\n",
       " {'role': 'assistant',\n",
       "  'content': \"Hello! I'm here to help you find information about property listings. I can help you look up details about specific properties if you provide me with an address. What property would you like to learn more about?\"},\n",
       " {'role': 'user',\n",
       "  'content': \"I'm I want to put together an email for a client about the home listed at 192 Oak St. Can you pull the listing?\"},\n",
       " {'role': 'assistant',\n",
       "  'content': [{'text': \"I'll help you get the listing information for 192 Oak St.\",\n",
       "    'type': 'text'},\n",
       "   {'id': 'toolu_014qPwweB4GpRnDEdxgVywEd',\n",
       "    'input': {'address': '192 Oak St'},\n",
       "    'name': 'get_listing',\n",
       "    'type': 'tool_use'}]},\n",
       " {'role': 'user',\n",
       "  'content': [{'type': 'tool_result',\n",
       "    'tool_use_id': 'toolu_014qPwweB4GpRnDEdxgVywEd',\n",
       "    'content': '<a href=\"#18bacG4a\">192 Oak St</a>'}]},\n",
       " {'role': 'assistant',\n",
       "  'content': 'I\\'ve retrieved the listing details for 192 Oak St. It\\'s a 3-bed, 2-bath ranch-style home in Cedar Rapids, Iowa, listed at $185,000. The property has 1,450 square feet of living space on a quarter-acre lot. You can find the complete listing details including features and description in the <a href=\"#18bacG4a\">192 Oak St listing</a>. Would you like me to help you compose an email highlighting specific aspects of this property for your client?'}]"
      ]
     },
     "execution_count": 14,
     "metadata": {},
     "output_type": "execute_result"
    }
   ],
   "source": [
    "messages"
   ]
  },
  {
   "cell_type": "code",
   "execution_count": 15,
   "id": "3e0f0647-10a9-42f7-ad24-0d5053f02e16",
   "metadata": {},
   "outputs": [
    {
     "data": {
      "text/plain": [
       "[Artifact(identifier=\"18bacG4a\", title=\"192 Oak St\")]"
      ]
     },
     "execution_count": 15,
     "metadata": {},
     "output_type": "execute_result"
    }
   ],
   "source": [
    "artifacts"
   ]
  },
  {
   "cell_type": "code",
   "execution_count": 16,
   "id": "5d1b0161-5b44-4e2c-a6e7-dd5d7c88f189",
   "metadata": {},
   "outputs": [
    {
     "data": {
      "text/plain": [
       "6"
      ]
     },
     "execution_count": 16,
     "metadata": {},
     "output_type": "execute_result"
    }
   ],
   "source": [
    "len(messages)"
   ]
  },
  {
   "cell_type": "code",
   "execution_count": 17,
   "id": "1a5c51da-d89e-4c66-8dba-dc42ec4ff059",
   "metadata": {},
   "outputs": [
    {
     "name": "stdout",
     "output_type": "stream",
     "text": [
      "{'role': 'user', 'content': 'Hello!'}\n",
      "\n",
      "{'role': 'assistant', 'content': \"Hello! I'm here to help you find information about property listings. I can help you look up details about specific properties if you provide me with an address. What property would you like to learn more about?\"}\n",
      "\n",
      "{'role': 'user', 'content': \"I'm I want to put together an email for a client about the home listed at 192 Oak St. Can you pull the listing?\"}\n",
      "\n",
      "{'role': 'assistant', 'content': [{'text': \"I'll help you get the listing information for 192 Oak St.\", 'type': 'text'}, {'id': 'toolu_014qPwweB4GpRnDEdxgVywEd', 'input': {'address': '192 Oak St'}, 'name': 'get_listing', 'type': 'tool_use'}]}\n",
      "\n",
      "{'role': 'user', 'content': [{'type': 'tool_result', 'tool_use_id': 'toolu_014qPwweB4GpRnDEdxgVywEd', 'content': '<a href=\"#18bacG4a\">192 Oak St</a>'}]}\n",
      "\n",
      "{'role': 'assistant', 'content': 'I\\'ve retrieved the listing details for 192 Oak St. It\\'s a 3-bed, 2-bath ranch-style home in Cedar Rapids, Iowa, listed at $185,000. The property has 1,450 square feet of living space on a quarter-acre lot. You can find the complete listing details including features and description in the <a href=\"#18bacG4a\">192 Oak St listing</a>. Would you like me to help you compose an email highlighting specific aspects of this property for your client?'}\n",
      "\n"
     ]
    }
   ],
   "source": [
    "for m in messages:\n",
    "    print(m)\n",
    "    print()"
   ]
  },
  {
   "cell_type": "code",
   "execution_count": 18,
   "id": "2882a62c-b80f-4e0d-a950-88c702bc27a4",
   "metadata": {},
   "outputs": [
    {
     "data": {
      "text/plain": [
       "5"
      ]
     },
     "execution_count": 18,
     "metadata": {},
     "output_type": "execute_result"
    }
   ],
   "source": [
    "len(process_tool_uses_and_results(messages))"
   ]
  },
  {
   "cell_type": "code",
   "execution_count": 19,
   "id": "d8630e3f-7574-452d-97cf-010a8c981d34",
   "metadata": {},
   "outputs": [
    {
     "name": "stdout",
     "output_type": "stream",
     "text": [
      "{'role': 'user', 'content': 'Hello!'}\n",
      "\n",
      "{'role': 'assistant', 'content': \"Hello! I'm here to help you find information about property listings. I can help you look up details about specific properties if you provide me with an address. What property would you like to learn more about?\"}\n",
      "\n",
      "{'role': 'user', 'content': \"I'm I want to put together an email for a client about the home listed at 192 Oak St. Can you pull the listing?\"}\n",
      "\n",
      "{'role': 'assistant', 'content': [{'text': \"I'll help you get the listing information for 192 Oak St.\", 'type': 'text'}, {'type': 'tool_use', 'name': 'get_listing', 'input': {'address': '192 Oak St'}, 'output': '<a href=\"#18bacG4a\">192 Oak St</a>'}]}\n",
      "\n",
      "{'role': 'assistant', 'content': 'I\\'ve retrieved the listing details for 192 Oak St. It\\'s a 3-bed, 2-bath ranch-style home in Cedar Rapids, Iowa, listed at $185,000. The property has 1,450 square feet of living space on a quarter-acre lot. You can find the complete listing details including features and description in the <a href=\"#18bacG4a\">192 Oak St listing</a>. Would you like me to help you compose an email highlighting specific aspects of this property for your client?'}\n",
      "\n"
     ]
    }
   ],
   "source": [
    "for m in process_tool_uses_and_results(messages):\n",
    "    print(m)\n",
    "    print()"
   ]
  },
  {
   "cell_type": "code",
   "execution_count": 20,
   "id": "489ab5fb-b2bd-4cd7-8f00-82bd6504a9be",
   "metadata": {},
   "outputs": [
    {
     "data": {
      "text/plain": [
       "[{'identifier': '18bacG4a',\n",
       "  'type': 'application/json',\n",
       "  'title': '192 Oak St',\n",
       "  'content': '{\\n    \"address\": \"192 Oak St\",\\n    \"city\": \"Cedar Rapids\",\\n    \"state\": \"IA\",\\n    \"zip\": \"52402\",\\n    \"price\": 185000,\\n    \"beds\": 3,\\n    \"baths\": 2,\\n    \"sqft\": 1450,\\n    \"lot_size\": 0.25,\\n    \"year_built\": 1978,\\n    \"description\": \"Charming ranch-style home in established neighborhood. Updated kitchen with new appliances. Finished basement, attached 2-car garage, fenced backyard with mature trees. Close to schools and shopping.\",\\n    \"features\": [           \\n        \"Central air\",\\n        \"Forced air heating\",\\n        \"Hardwood floors\",\\n        \"Updated kitchen\",\\n        \"Finished basement\",\\n        \"Attached garage\",\\n        \"Fenced yard\"\\n    ],\\n}'}]"
      ]
     },
     "execution_count": 20,
     "metadata": {},
     "output_type": "execute_result"
    }
   ],
   "source": [
    "[artifact.dict() for artifact in artifacts]"
   ]
  },
  {
   "cell_type": "code",
   "execution_count": 21,
   "id": "b2391e9d-944d-4411-96b7-ecd0b26614cd",
   "metadata": {},
   "outputs": [
    {
     "data": {
      "text/plain": [
       "Artifact(identifier=\"18bacG4a\", title=\"192 Oak St\")"
      ]
     },
     "execution_count": 21,
     "metadata": {},
     "output_type": "execute_result"
    }
   ],
   "source": [
    "artifacts[0]"
   ]
  },
  {
   "cell_type": "code",
   "execution_count": 22,
   "id": "10e13605-09dc-4c4d-9ee1-e16c7033d500",
   "metadata": {},
   "outputs": [
    {
     "data": {
      "text/plain": [
       "{'identifier': '18bacG4a',\n",
       " 'type': 'application/json',\n",
       " 'title': '192 Oak St',\n",
       " 'content': '{\\n    \"address\": \"192 Oak St\",\\n    \"city\": \"Cedar Rapids\",\\n    \"state\": \"IA\",\\n    \"zip\": \"52402\",\\n    \"price\": 185000,\\n    \"beds\": 3,\\n    \"baths\": 2,\\n    \"sqft\": 1450,\\n    \"lot_size\": 0.25,\\n    \"year_built\": 1978,\\n    \"description\": \"Charming ranch-style home in established neighborhood. Updated kitchen with new appliances. Finished basement, attached 2-car garage, fenced backyard with mature trees. Close to schools and shopping.\",\\n    \"features\": [           \\n        \"Central air\",\\n        \"Forced air heating\",\\n        \"Hardwood floors\",\\n        \"Updated kitchen\",\\n        \"Finished basement\",\\n        \"Attached garage\",\\n        \"Fenced yard\"\\n    ],\\n}'}"
      ]
     },
     "execution_count": 22,
     "metadata": {},
     "output_type": "execute_result"
    }
   ],
   "source": [
    "artifacts[0].dict()"
   ]
  },
  {
   "cell_type": "code",
   "execution_count": 23,
   "id": "feffd234-944c-4e8e-b10b-2f5b0e9a30be",
   "metadata": {},
   "outputs": [
    {
     "name": "stdout",
     "output_type": "stream",
     "text": [
      "{'role': 'user', 'content': 'Hello!'}\n",
      "\n",
      "{'role': 'assistant', 'content': \"Hello! I'm here to help you find information about property listings. I can help you look up details about specific properties if you provide me with an address. What property would you like to learn more about?\"}\n",
      "\n",
      "{'role': 'user', 'content': \"I'm I want to put together an email for a client about the home listed at 192 Oak St. Can you pull the listing?\"}\n",
      "\n",
      "{'role': 'assistant', 'content': [{'text': \"I'll help you get the listing information for 192 Oak St.\", 'type': 'text'}, {'type': 'tool_use', 'id': 'toolu_0', 'name': 'get_listing', 'input': {'address': '192 Oak St'}}]}\n",
      "\n",
      "{'role': 'user', 'content': [{'type': 'tool_result', 'tool_use_id': 'toolu_0', 'content': '<a href=\"#18bacG4a\">192 Oak St</a>'}]}\n",
      "\n",
      "{'role': 'assistant', 'content': 'I\\'ve retrieved the listing details for 192 Oak St. It\\'s a 3-bed, 2-bath ranch-style home in Cedar Rapids, Iowa, listed at $185,000. The property has 1,450 square feet of living space on a quarter-acre lot. You can find the complete listing details including features and description in the <a href=\"#18bacG4a\">192 Oak St listing</a>. Would you like me to help you compose an email highlighting specific aspects of this property for your client?'}\n",
      "\n"
     ]
    }
   ],
   "source": [
    "for m in unprocess_tool_uses_and_results(process_tool_uses_and_results(messages)):\n",
    "    print(m)\n",
    "    print()"
   ]
  },
  {
   "cell_type": "code",
   "execution_count": null,
   "id": "bcd0ffcf-4ebc-4b1b-bbd9-69f453f71586",
   "metadata": {},
   "outputs": [],
   "source": []
  }
 ],
 "metadata": {
  "kernelspec": {
   "display_name": "Python 3 (ipykernel)",
   "language": "python",
   "name": "python3"
  },
  "language_info": {
   "codemirror_mode": {
    "name": "ipython",
    "version": 3
   },
   "file_extension": ".py",
   "mimetype": "text/x-python",
   "name": "python",
   "nbconvert_exporter": "python",
   "pygments_lexer": "ipython3",
   "version": "3.12.7"
  }
 },
 "nbformat": 4,
 "nbformat_minor": 5
}
